{
 "cells": [
  {
   "cell_type": "markdown",
   "metadata": {},
   "source": [
    "# 기초편"
   ]
  },
  {
   "cell_type": "markdown",
   "metadata": {},
   "source": [
    "* [1단계] `헤더(header)`: 제목, 문단별 제목을 쓰고 싶을 때"
   ]
  },
  {
   "cell_type": "markdown",
   "metadata": {},
   "source": [
    "```\n",
    "# 제목 1단계\n",
    "## 제목 2단계\n",
    "...\n",
    "###### 제목 6단계\n",
    "```"
   ]
  },
  {
   "cell_type": "markdown",
   "metadata": {},
   "source": [
    "# h1\n",
    "## h2"
   ]
  },
  {
   "cell_type": "markdown",
   "metadata": {},
   "source": [
    "* [2단계] `수평선`: 내용을 명시적으로 구분하고 싶을 때"
   ]
  },
  {
   "cell_type": "markdown",
   "metadata": {},
   "source": [
    "``` \n",
    "--- (hyphen)\n",
    "*** (asterisks)\n",
    "___ (underscore)\n",
    "```\n",
    "모두 가능"
   ]
  },
  {
   "cell_type": "markdown",
   "metadata": {},
   "source": [
    "---"
   ]
  },
  {
   "cell_type": "markdown",
   "metadata": {},
   "source": [
    "* [3단계] `엔터키(줄바꿈)`: 라인을 바꾸고 싶을 때\n",
    "\n",
    "문장 끝에서 스페이스 2번,  \n",
    "또는 엔터를 2번,\n",
    "\n",
    "또는 `<br>`을 이용하면 <br>줄이 바뀐다"
   ]
  },
  {
   "cell_type": "markdown",
   "metadata": {},
   "source": [
    "* [4단계] `목록(list)`: 요소를 나열할 때"
   ]
  },
  {
   "cell_type": "markdown",
   "metadata": {},
   "source": [
    "```\n",
    "1. 첫번째 목록\n",
    "1. 두번째 목록\n",
    "1. 세번째 목록\n",
    "\n",
    "* 순서\n",
    "    - 없는\n",
    "        + 목록\n",
    "```"
   ]
  },
  {
   "cell_type": "markdown",
   "metadata": {},
   "source": [
    "1. 첫번째 목록\n",
    "1. 두번째 목록\n",
    "1. 세번째 목록\n",
    "\n",
    "* 순서\n",
    "    - 없는\n",
    "        + 목록"
   ]
  },
  {
   "cell_type": "markdown",
   "metadata": {},
   "source": [
    "* [5단계] `강조`: 문장 내 강조하고 싶은 단어를 눈에 띄게"
   ]
  },
  {
   "cell_type": "markdown",
   "metadata": {},
   "source": [
    "```\n",
    "__볼드(진하게)__  \n",
    "_이탤릭체(기울여서)_  \n",
    "~~취소선~~  \n",
    "<u>밑줄</u>  \n",
    "__볼드로 쓰다가 *이탤릭으로 바꿔서*쓰는 것도 가능__\n",
    "```"
   ]
  },
  {
   "cell_type": "markdown",
   "metadata": {},
   "source": [
    "__볼드(진하게)__  \n",
    "_이탤릭체(기울여서)_  \n",
    "~~취소선~~  \n",
    "<u>밑줄</u>  \n",
    "__볼드로 쓰다가 *이탤릭으로 바꿔서*쓰는 것도 가능__"
   ]
  },
  {
   "cell_type": "markdown",
   "metadata": {},
   "source": [
    "* [6단계] `인용구`: 인용할 경우 또는 분위기 전환 시 사용"
   ]
  },
  {
   "cell_type": "markdown",
   "metadata": {},
   "source": [
    "```\n",
    "> 위키백과?\n",
    ">> 중대장 드립\n",
    ">>> \"오늘 중대장은 너희에게 실망했다\"\n",
    "```"
   ]
  },
  {
   "cell_type": "markdown",
   "metadata": {},
   "source": [
    "> 위키백과?\n",
    ">> 중대장 드립\n",
    ">>> \"오늘 중대장은 너희에게 실망했다\""
   ]
  },
  {
   "cell_type": "markdown",
   "metadata": {},
   "source": [
    "* [7단계] `링크(link)`: 클릭하면 다른 페이지, 또는 다른 부분으로 이동 가능"
   ]
  },
  {
   "cell_type": "markdown",
   "metadata": {},
   "source": [
    "```\n",
    "유형 1 ('설명어'를 클릭하면 URL을 통해 이동) --> [화공인공지능 Github](https://github.com/pseokyoung/chemengAI)  \n",
    "유형 2 (URL을 직접 연결) --> https://github.com/pseokyoung/chemengAI  \n",
    "유형 3 (동일 파일 내 문단 이동) --> [헤더 1로 이동](#h1) or [헤더 2로 이동](#h2)\n",
    "> 유형 3 태그 방법: \n",
    "> 1) `특수문자` 제거\n",
    "> 2) 스페이스를 `-`(하이픈)으로 변경\n",
    "> 3) 대문자 -> 소문자\n",
    ">> `ex)` #Markdown!의 장점 --> #markdown의-장점\n",
    "```"
   ]
  },
  {
   "cell_type": "markdown",
   "metadata": {},
   "source": [
    "유형 1 ('설명어'를 클릭하면 URL을 통해 이동) --> [화공인공지능 Github](https://github.com/pseokyoung/chemengAI)  \n",
    "유형 2 (URL을 직접 연결) --> https://github.com/pseokyoung/chemengAI  \n",
    "유형 3 (동일 파일 내 문단 이동) --> [헤더 1로 이동](#h1) or [헤더 2로 이동](#h2)\n",
    "> 유형 3 태그 방법: \n",
    "> 1) `특수문자` 제거\n",
    "> 2) 스페이스를 `-`(하이픈)으로 변경\n",
    "> 3) 대문자 -> 소문자\n",
    ">> `ex)` #Markdown!의 장점 --> #markdown의-장점"
   ]
  },
  {
   "cell_type": "markdown",
   "metadata": {},
   "source": [
    "* [8단계] `이미지(image)`: 이미지 보여주기\n"
   ]
  },
  {
   "cell_type": "markdown",
   "metadata": {},
   "source": [
    "```\n",
    "유형 1 ('이미지' 삽입) <br>\n",
    "![이미지 이름](https://github.com/pseokyoung/chemengAI/blob/main/6.%20supplements/github%20image.PNG?raw=true)\n",
    "<br>\n",
    "유형 2 (이미지 `사이즈 조절`) <br>\n",
    "<img src=\"https://github.com/pseokyoung/chemengAI/blob/main/6.%20supplements/github%20image.PNG?raw=true\" width='300' height='200' >\n",
    "<br>\n",
    "유형 3 (이미지에 `링크 걸기`) <br>\n",
    "[![이미지 이름](https://github.com/pseokyoung/chemengAI/blob/main/6.%20supplements/github%20image.PNG?raw=true)](https://github.com/pseokyoung/chemengAI/blob/main/6.%20supplements/github%20image.PNG)\n",
    "```"
   ]
  },
  {
   "cell_type": "markdown",
   "metadata": {},
   "source": [
    "유형 1 ('이미지' 삽입) <br>\n",
    "![이미지 이름](https://github.com/pseokyoung/chemengAI/blob/main/6.%20supplements/github%20image.PNG?raw=true)\n",
    "<br>\n",
    "유형 2 (이미지 `사이즈 조절`) <br>\n",
    "<img src=\"https://github.com/pseokyoung/chemengAI/blob/main/6.%20supplements/github%20image.PNG?raw=true\" width='300' height='200' >\n",
    "<br>\n",
    "유형 3 (이미지에 `링크 걸기`) <br>\n",
    "[![이미지 이름](https://github.com/pseokyoung/chemengAI/blob/main/6.%20supplements/github%20image.PNG?raw=true)](https://github.com/pseokyoung/chemengAI/blob/main/6.%20supplements/github%20image.PNG)"
   ]
  },
  {
   "cell_type": "markdown",
   "metadata": {},
   "source": [
    "# 기능편"
   ]
  },
  {
   "cell_type": "markdown",
   "metadata": {},
   "source": [
    "* [1단계] `표(table)`: 표 그리기"
   ]
  },
  {
   "cell_type": "markdown",
   "metadata": {},
   "source": [
    "```\n",
    "|      | 수학 | 평가 |\n",
    "| :--- | ---: | :---: |\n",
    "| 철수 | 90 | 잘했어요. |\n",
    "| 영희 | 50 | 분발해요. |\n",
    "```"
   ]
  },
  {
   "cell_type": "markdown",
   "metadata": {},
   "source": [
    "|      | 수학 | 평가 |\n",
    "| :--- | ---: | :---: |\n",
    "| 철수 | 90 | 잘했어요. |\n",
    "| 영희 | 50 | 분발해요. |"
   ]
  },
  {
   "cell_type": "markdown",
   "metadata": {},
   "source": [
    "> * 헤더(머리글)를 분리하고 싶은 경우, 2번째 라인에 `---`을 사용해주면 된다.\n",
    "> * `:---` 왼쪽 정렬, `---:` 오른쪽 정렬, `:---:` 가운데 정렬"
   ]
  },
  {
   "cell_type": "markdown",
   "metadata": {},
   "source": [
    "* [2단계] `수식`: 수학, 논문분석 등에 사용"
   ]
  },
  {
   "cell_type": "markdown",
   "metadata": {},
   "source": [
    "```\n",
    "$$  f(x)= if x < x_{min} : (x/x_{min})^a  $$  \n",
    "$$  otherwise : 0  $$  \n",
    "$$  P(w)=U(x/2)(7/5)/Z  $$  \n",
    "$$  p_{\\theta}(x) = \\int p_{\\theta}(2z)p_{\\theta}(y\\mid k)dz  $$  \n",
    "$$  x = argmax_k((x_t-x_u+x_v)^T*x_m)/(||x_b-x_k+x_l||)  $$  \n",
    "```"
   ]
  },
  {
   "cell_type": "markdown",
   "metadata": {},
   "source": [
    "> * 수식은 `$$` 으로 둘러싸는 형식으로 표현한다."
   ]
  },
  {
   "cell_type": "markdown",
   "metadata": {},
   "source": [
    "$$f(x)= if x < x_{min} : (x/x_{min})^a$$  \n",
    "$$otherwise : 0$$  \n",
    "$$P(w)=U(x/2)(7/5)/Z$$  \n",
    "$$p_{\\theta}(x) = \\int p_{\\theta}(2z)p_{\\theta}(y\\mid k)dz$$  \n",
    "$$x = argmax_k((x_t-x_u+x_v)^T*x_m)/(||x_b-x_k+x_l||)$$  "
   ]
  },
  {
   "cell_type": "markdown",
   "metadata": {},
   "source": [
    "* [3단계] `코드 블록(code block)`: 소스코드, 외부 인용자료 블록 처리 등에 사용"
   ]
  },
  {
   "cell_type": "markdown",
   "metadata": {},
   "source": [
    "```\n",
    "``` python\n",
    "print(\"Hello world\")\n",
    "\n",
    "import numpy as np\n",
    "import tensorflow as tf\n",
    "\n",
    "for i in range(10):\n",
    "    print(i)\n",
    "    \n",
    "def add(a,b):\n",
    "    return a + b\n",
    "    \n",
    "```\n",
    "```"
   ]
  },
  {
   "cell_type": "markdown",
   "metadata": {},
   "source": [
    "``` python\n",
    "print(\"Hello world\")\n",
    "\n",
    "import numpy as np\n",
    "import tensorflow as tf\n",
    "\n",
    "for i in range(10):\n",
    "    print(i)\n",
    "    \n",
    "def add(a,b):\n",
    "    return a + b\n",
    "    \n",
    "```"
   ]
  },
  {
   "cell_type": "markdown",
   "metadata": {},
   "source": []
  }
 ],
 "metadata": {
  "language_info": {
   "name": "python"
  },
  "orig_nbformat": 4
 },
 "nbformat": 4,
 "nbformat_minor": 2
}
