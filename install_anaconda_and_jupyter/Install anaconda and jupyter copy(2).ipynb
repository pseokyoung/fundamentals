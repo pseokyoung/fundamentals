{
 "cells": [
  {
   "cell_type": "markdown",
   "metadata": {},
   "source": [
    "# 2. 주피터 노트북 및 가상환경"
   ]
  },
  {
   "cell_type": "markdown",
   "metadata": {},
   "source": [
    "이번 영상에서는, 앞서 설치한 아나콘다 프로그램을 이용하여 주피터 노트북을 설치한 후 파이썬 가상환경까지 생성해보도록 하겠습니다.\n",
    "\n",
    "먼저, 윈도우 검색창에서 영어로 anaconda를 검색합니다. 그러면 아나콘다 프롬프트가 나타나고 이를 실행해줍니다."
   ]
  },
  {
   "cell_type": "markdown",
   "metadata": {},
   "source": [
    "* 아나콘다 프롬프트 실행\n",
    "\n",
    "`window + s` 입력 -> `anaconda` 입력 후 클릭  \n",
    "<image src=\"https://github.com/pseokyoung/fundamentals/blob/main/install_anaconda_and_jupyter/image/fig15.png?raw=true\" width='500' height='500'>"
   ]
  },
  {
   "cell_type": "markdown",
   "metadata": {},
   "source": [
    "아나콘다가 실행되면, 아나콘다를 최신 버전으로 업데이트를 해줍니다. \n",
    "\n",
    "conda update -n base conda 명령어를 이용해서 아나콘다를 업데이트 해줍니다.\n",
    "\n",
    "그리고 진행여부를 묻는 질문에 y를 입력 한 후 엔터를 쳐줍니다.\n",
    "\n",
    "\n",
    "다음으로, conda update --all 명령어를 이용하여 아나콘다의 모든 패키지를 최신 버전으로 업데이트를 해줍니다.\n",
    "\n",
    "마찬가지로 진행여부를 묻는 질문에 y를 입력하고 엔터를 쳐줍니다."
   ]
  },
  {
   "cell_type": "markdown",
   "metadata": {},
   "source": [
    "* 아나콘다 업데이트\n",
    "---\n",
    "\n",
    "> `(base) conda update -n base conda`  \n",
    "> Proceed([y]/n)? --> y 입력 후 엔터\n",
    "\n",
    "---\n",
    "\n",
    "> `(base) conda update --all`  \n",
    "> Proceed([y]/n)? --> y 입력 후 엔터\n",
    "\n",
    "---\n",
    "\n",
    "<image src=\"https://github.com/pseokyoung/fundamentals/blob/main/install_anaconda_and_jupyter/image/fig16.png?raw=true\" width='1000' height='500'>  "
   ]
  },
  {
   "cell_type": "markdown",
   "metadata": {},
   "source": [
    "아나콘다의 업데이트가 끝나면, 이제 앞으로 작업하게 될 가상환경을 생성해주도록 하겠습니다.\n",
    "\n",
    "가상환경은 프로젝트마다 사용되는 패키지들의 버전을 따로 관리해주기 위해 사용됩니다.\n",
    "\n",
    "conda create -n 다음에 원하시는 가상환경의 이름을 입력해줍니다.\n",
    "\n",
    "저는 화공생명공학과의 줄임말인 chemeng으로 환경 이름을 설정하도록 하겠습니다.\n",
    "\n",
    "그리고 다음으로 가상환경에서 사용할 파이썬의 버전을 설정해줄 수 있습니다.\n",
    "\n",
    "저는 파이썬 버전 3.8로 설치를 해주도록 하겠습니다. "
   ]
  },
  {
   "cell_type": "markdown",
   "metadata": {},
   "source": [
    "* 새로운 가상환경 생성\n",
    "---\n",
    "\n",
    "> `(base) conda create -n chemeng python=3.8`  \n",
    "> Proceed([y]/n)? --> y 입력 후 엔터  \n",
    ">> -n 뒤에 \"chemeng\" 은 생성하고자 하는 `가상환경 이름`  \n",
    ">> 가상환경 이름(chemeng) 뒤에 python=3.8 은 `가상환경에 설치하고자 하는 파이썬 버전`\n",
    "\n",
    "---"
   ]
  },
  {
   "cell_type": "markdown",
   "metadata": {},
   "source": [
    "자 이제, chemeng이라는 이름의 가상환경이 생성되었습니다. \n",
    "\n",
    "이 가상환경을 한번 실행해보도록 하겠습니다.\n",
    "\n",
    "가상환경의 실행 명령어는 activate 이후에 가상환경의 이름을 입력해주시면 됩니다.\n",
    "\n",
    "제가 생성한 가상환경의 이름은 chemeng 이므로 activate chemeng 이라고 입력해줍니다."
   ]
  },
  {
   "cell_type": "markdown",
   "metadata": {},
   "source": [
    "* 가상환경 실행\n",
    "---\n",
    "\n",
    "`(base) activate chemeng`\n",
    "\n",
    "> 변경된 환경 확인 (base) --> (chemeng)\n",
    "\n",
    "---"
   ]
  },
  {
   "cell_type": "markdown",
   "metadata": {},
   "source": [
    "가상환경에 진입하게 되면 명령어 입력창이 가상환경의 이름으로 바뀌게 됩니다.\n",
    "\n",
    "입력창 왼쪽에 chemeng이라고 적혀있는 것으로 제가 현재 가상환경에 제대로 진입하였음을 알 수 있습니다.\n",
    "\n",
    "이제 이 가상환경 안에 주피터 노트북을 설치하겠습니다.\n",
    "\n",
    "명령어로 conda install jupyter notebook을 입력해주시고, \n",
    "\n",
    "진행 여부에 y를 입력하여 설치를 진행합니다."
   ]
  },
  {
   "cell_type": "markdown",
   "metadata": {},
   "source": [
    "* 가상환경에 주피터 노트북 설치\n",
    "---\n",
    "\n",
    "`(chemeng) > conda install jupyter notebook`\n",
    "\n",
    "Proceed([y]/n)? y\n",
    "\n",
    "---"
   ]
  },
  {
   "cell_type": "markdown",
   "metadata": {},
   "source": [
    "주피터 노트북이 설치되면 nb_conda를 설치해줍니다.\n",
    "\n",
    "명령어로 conda install nb_conda를 입력하여 설치를 진행합니다.\n",
    "\n",
    "이것은 주피터 노트북 상에서 패키지 및 가상환경을 다루기 쉽게 해주는 역할을 합니다."
   ]
  },
  {
   "cell_type": "markdown",
   "metadata": {},
   "source": [
    "* nb_conda 설치\n",
    "> `nb_conda` 는 주피터 노트북 상에서 패키지 및 가상환경을 다루기 쉽게 함\n",
    "---\n",
    "\n",
    "`(chemeng) > conda install nb_conda`\n",
    "\n",
    "Proceed([y]/n)? y\n",
    "\n",
    "---"
   ]
  },
  {
   "cell_type": "markdown",
   "metadata": {},
   "source": [
    "다음으로, 파이썬에서 많이 사용되는 상용 라이브러리들을 설치해줍니다.\n",
    "\n",
    "라이브러리 설치는 pip 명령어를 이용해서 진행합니다.\n",
    "\n",
    "pip install numpy pandas matplotlib seaborn joblib scikit-learn을 입력하여 라이브러리를 설치해줍니다.\n",
    "\n",
    "이 라이브러리들의 용도는 이후 수업에서 자세히 설명해드리도록 하겠습니다."
   ]
  },
  {
   "cell_type": "markdown",
   "metadata": {},
   "source": [
    "* 파이썬 상용 라이브러리 설치\n",
    "---\n",
    "\n",
    "`(chemeng) > pip install numpy pandas matplotlib seaborn joblib scikit-learn`\n",
    "\n",
    "---"
   ]
  },
  {
   "cell_type": "markdown",
   "metadata": {},
   "source": [
    "마지막으로, 텐서플로우를 포함한 기타 라이브러리들을 설치해주겠습니다.\n",
    "\n",
    "위와 동일하게 pip 명령어를 이용하여,\n",
    "\n",
    "pip install tensorflow gym opencv-python 을 입력하여 라이브러리를 설치해줍니다."
   ]
  },
  {
   "cell_type": "markdown",
   "metadata": {},
   "source": [
    "* 기타 라이브러리 설치\n",
    "> `tensorflow`: 인공신경망을 다루는 라이브러리  \n",
    "> `gym`: 강화학습의 뼈대를 만들어주는 라이브러리  \n",
    "> `opencv-python`: open source computer vision 라이브러리\n",
    "---\n",
    "\n",
    "`(chemeng) > pip install tensorflow gym opencv-python `\n",
    "\n",
    "---"
   ]
  },
  {
   "cell_type": "markdown",
   "metadata": {},
   "source": [
    "여기까지 하시면 주피터 노트북과 가상환경의 설치가 완료됩니다.\n",
    "\n",
    "이제 설치된 주피터 노트북을 가상환경에서 실행해보도록 하겠습니다.\n",
    "\n",
    "입력창에 jupyter notebook을 입력해주시면 주피터 노트북이 실행됩니다.\n",
    "\n",
    "자 그럼 주피터 노트북에서 새로운 노트북 파일을 만들어 보도록 하겠습니다.\n",
    "\n",
    "오른쪽 상단에 New 를 클릭하고 생성했던 chemeng이라는 가상환경으로 새 노트북을 만들어줍니다.\n",
    "\n",
    "앞으로 이런 방식으로 새로운 파일을 생성해주시면 됩니다."
   ]
  },
  {
   "cell_type": "markdown",
   "metadata": {},
   "source": [
    "# 3. 주피터 노트북 실행"
   ]
  },
  {
   "cell_type": "markdown",
   "metadata": {},
   "source": [
    "* 가상환경에서 새로운 노트북 만들기\n",
    "\n",
    "<image src=\"https://github.com/pseokyoung/fundamentals/blob/main/install_anaconda_and_jupyter/image/fig20.png?raw=true\" width='1500' height='500'>"
   ]
  },
  {
   "cell_type": "markdown",
   "metadata": {},
   "source": [
    "마지막으로, 처음부터 주피터 노트북을 실행하는 방법을 설명드리고 영상 마치도록 하겠습니다.\n",
    "\n",
    "먼저, 아나콘다 프롬프트를 실행합니다. 앞으로 자주 사용하니 작업표시줄에 고정해두시면 좋습니다.\n",
    "\n",
    "다음으로, 가상환경을 실행하고\n",
    "\n",
    "jupyter notebook 명령어를 이용해 주피터 노트북을 실행하면 끝입니다.\n",
    "\n",
    "이상으로, 주피터 노트북 설치와 가상환경 생성에 대한 설명을 마치겠습니다.\n",
    "\n",
    "시청해주셔서 감사합니다."
   ]
  }
 ],
 "metadata": {
  "language_info": {
   "name": "python"
  },
  "orig_nbformat": 4
 },
 "nbformat": 4,
 "nbformat_minor": 2
}
