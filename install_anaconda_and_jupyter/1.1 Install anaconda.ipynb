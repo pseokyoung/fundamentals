{
 "cells": [
  {
   "cell_type": "markdown",
   "metadata": {},
   "source": [
    "# 1. 아나콘다 설치"
   ]
  },
  {
   "cell_type": "markdown",
   "metadata": {},
   "source": [
    "안녕하세요, 오늘은 앞으로의 실습시간에 사용할 파이썬 작업환경을 구축해보도록 하겠습니다.\n",
    "\n",
    "작업환경 구축을 위해서 아나콘다 프로그램과 주피터 노트북을 설치하겠습니다.\n",
    "\n",
    "먼저, 아나콘다 설치 방법부터 말씀드리도록 하겠습니다."
   ]
  },
  {
   "cell_type": "markdown",
   "metadata": {},
   "source": [
    "아나콘다 프로그램 설치를 위해서 구글에 아나콘다를 검색해줍니다.\n",
    "\n",
    "그러면, 맨 위에 individual edition - anaconda라는 사이트가 나타나고, 이 사이트를 클릭해줍니다.\n",
    "\n",
    "사이트에 접속하시면 바로 아나콘다 프로그램을 다운로드 하실 수 있습니다.\n",
    "\n",
    "다운로드 버튼을 클릭해줍니다. 다운로드가 오래 걸리신다면 잠시 화장실에 다녀오셔도 좋습니다."
   ]
  },
  {
   "cell_type": "markdown",
   "metadata": {},
   "source": [
    "아나콘다 설치 프로그램 다운로드\n",
    "\n",
    "[링크] https://www.anaconda.com/products/individual\n",
    "\n",
    "<image src=\"https://github.com/pseokyoung/fundamentals/blob/main/install_anaconda_and_jupyter/image/fig01.png?raw=true\" width='500' height='210'>"
   ]
  },
  {
   "cell_type": "markdown",
   "metadata": {},
   "source": [
    "다운로드가 완료되었습니다. \n",
    "\n",
    "이제 설치 프로그램을 실행해보겠습니다.\n",
    "\n",
    "넥스트 버튼을 눌러줍니다.\n",
    "\n",
    "그리고 동의 버튼을 눌러주시고\n",
    "\n",
    "Just me에 체크되어있는지 확인하시고 넥스트를 눌러줍니다.\n",
    "\n",
    "그 다음으로, 아나콘다 설치경로를 설정해줄 수 있습니다.\n",
    "\n",
    "원하시는 곳으로 변경하시면 되고, 저는 그냥 기본값으로 진행하도록 하겠습니다."
   ]
  },
  {
   "cell_type": "markdown",
   "metadata": {},
   "source": [
    "`Next` and `I Agree` <br>\n",
    "<image src=\"https://github.com/pseokyoung/fundamentals/blob/main/install_anaconda_and_jupyter/image/fig02.png?raw=true\" width='500' height='400'>\n",
    "<image src=\"https://github.com/pseokyoung/fundamentals/blob/main/install_anaconda_and_jupyter/image/fig05.png?raw=true\" width='500' height='400'>"
   ]
  },
  {
   "cell_type": "markdown",
   "metadata": {},
   "source": [
    "그 다음에 여기서가 중요합니다. \n",
    "\n",
    "컴퓨터에 파이썬을 한번도 설치해본 적이 없다면 맨 위에 박스를 체크해줍니다.\n",
    "\n",
    "만약, 기존에 파이썬이 설치되어있다면 체크를 해제해주시면 됩니다. 그래야 나중에 경로 충돌 문제를 방지할 수 있습니다.\n",
    "\n",
    "아래 박스는 파이썬 설치 유무와 상관없이 체크해준다음에 설치를 진행하시면 됩니다."
   ]
  },
  {
   "cell_type": "markdown",
   "metadata": {},
   "source": [
    "`check or uncheck` and `Install`<br>\n",
    "<image src=\"https://github.com/pseokyoung/fundamentals/blob/main/install_anaconda_and_jupyter/image/fig06.png?raw=true\" width='500' height='400'>\n",
    "\n",
    "> \"check\": If you have not installed python  \n",
    "> \"uncheck\": If you have already installed python  \n"
   ]
  },
  {
   "cell_type": "markdown",
   "metadata": {},
   "source": [
    "설치에는 컴퓨터 사양에 따라 5분에서 15분 정도가 소요됩니다.\n",
    "\n",
    "설치가 진행되는 동안 유튜브나 넷플릭스를 보면서 잠시 휴식을 취하시면 됩니다."
   ]
  },
  {
   "cell_type": "markdown",
   "metadata": {},
   "source": [
    "wait for 5-10 mins <br>\n",
    "<image src=\"https://github.com/pseokyoung/fundamentals/blob/main/install_anaconda_and_jupyter/image/fig07.png?raw=true\" width='500' height='400'>"
   ]
  },
  {
   "cell_type": "markdown",
   "metadata": {},
   "source": [
    "설치가 완료되면 계속 다음을 클릭해주시고,\n",
    "\n",
    "체크 박스를 둘 다 해제하신 후 완료를 눌러주시면 됩니다.\n",
    "\n",
    "이상으로, 아나콘다 설치에 대한 설명을 마치겠습니다.\n",
    "\n",
    "다음 영상에서는 주피터 노트북 설치 방법에 대해서 말씀드리겠습니다.\n",
    "\n",
    "시청해주셔서 감사합니다."
   ]
  },
  {
   "cell_type": "markdown",
   "metadata": {},
   "source": [
    "`next` and `finish` <br>\n",
    "\n",
    "<image src=\"https://github.com/pseokyoung/fundamentals/blob/main/install_anaconda_and_jupyter/image/fig08.png?raw=true\" width='500' height='400'>\n",
    "<image src=\"https://github.com/pseokyoung/fundamentals/blob/main/install_anaconda_and_jupyter/image/fig09.png?raw=true\" width='500' height='400'>\n",
    "<image src=\"https://github.com/pseokyoung/fundamentals/blob/main/install_anaconda_and_jupyter/image/fig10.png?raw=true\" width='500' height='400'>\n"
   ]
  }
 ],
 "metadata": {
  "language_info": {
   "name": "python"
  },
  "orig_nbformat": 4
 },
 "nbformat": 4,
 "nbformat_minor": 2
}
