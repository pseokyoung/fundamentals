{
 "cells": [
  {
   "cell_type": "markdown",
   "metadata": {},
   "source": [
    "# 1. 아나콘다 설치"
   ]
  },
  {
   "cell_type": "markdown",
   "metadata": {},
   "source": [
    "아나콘다 설치 프로그램 다운로드\n",
    "\n",
    "[링크] https://www.anaconda.com/products/individual\n",
    "\n",
    "<image src=\"https://github.com/pseokyoung/fundamentals/blob/main/install_anaconda_and_jupyter/image/fig01.png?raw=true\" width='500' height='210'>"
   ]
  },
  {
   "cell_type": "markdown",
   "metadata": {},
   "source": [
    "`Next` and `I Agree` <br>\n",
    "<image src=\"https://github.com/pseokyoung/fundamentals/blob/main/install_anaconda_and_jupyter/image/fig02.png?raw=true\" width='500' height='400'>\n",
    "<image src=\"https://github.com/pseokyoung/fundamentals/blob/main/install_anaconda_and_jupyter/image/fig03.png?raw=true\" width='500' height='400'>"
   ]
  },
  {
   "cell_type": "markdown",
   "metadata": {},
   "source": [
    "`Just Me` and `Next`<br>\n",
    "<image src=\"https://github.com/pseokyoung/fundamentals/blob/main/install_anaconda_and_jupyter/image/fig04.png?raw=true\" width='500' height='400'>\n",
    "<image src=\"https://github.com/pseokyoung/fundamentals/blob/main/install_anaconda_and_jupyter/image/fig05.png?raw=true\" width='500' height='400'>"
   ]
  },
  {
   "cell_type": "markdown",
   "metadata": {},
   "source": [
    "`check or uncheck` and `Install`<br>\n",
    "<image src=\"https://github.com/pseokyoung/fundamentals/blob/main/install_anaconda_and_jupyter/image/fig06.png?raw=true\" width='500' height='400'>\n",
    "\n",
    "> \"check\": If you have not installed python  \n",
    "> \"uncheck\": If you have already installed python  \n"
   ]
  },
  {
   "cell_type": "markdown",
   "metadata": {},
   "source": [
    "wait for 5-10 mins <br>\n",
    "<image src=\"https://github.com/pseokyoung/fundamentals/blob/main/install_anaconda_and_jupyter/image/fig07.png?raw=true\" width='500' height='400'>"
   ]
  },
  {
   "cell_type": "markdown",
   "metadata": {},
   "source": [
    "`next` and `finish` <br>\n",
    "\n",
    "<image src=\"https://github.com/pseokyoung/fundamentals/blob/main/install_anaconda_and_jupyter/image/fig08.png?raw=true\" width='500' height='400'>\n",
    "<image src=\"https://github.com/pseokyoung/fundamentals/blob/main/install_anaconda_and_jupyter/image/fig09.png?raw=true\" width='500' height='400'>\n",
    "<image src=\"https://github.com/pseokyoung/fundamentals/blob/main/install_anaconda_and_jupyter/image/fig10.png?raw=true\" width='500' height='400'>\n"
   ]
  },
  {
   "cell_type": "markdown",
   "metadata": {},
   "source": [
    "### (필수X) 환경변수 설정 (environment variable setting)"
   ]
  },
  {
   "cell_type": "markdown",
   "metadata": {},
   "source": [
    "> **위의 과정을 똑같이 따라했다면 바로 \"2. 주피터 노트북 및 가상환경\"으로 넘어가시면 됩니다.**<br>\n",
    "\n",
    "아나콘다 설치 시, `기존 파이썬이 없는 상황에서 환경변수 체크를 안 한 경우`에는 다음과 같이 환경변수를 설정해줍니다.  \n",
    "<image src=\"https://github.com/pseokyoung/fundamentals/blob/main/install_anaconda_and_jupyter/image/fig11.png?raw=true\" width='500' height='400'>"
   ]
  },
  {
   "cell_type": "markdown",
   "metadata": {},
   "source": [
    "`window + s` 입력 -> `시스템 환경 변수 편집` 입력 후 클릭  \n",
    "<image src=\"https://github.com/pseokyoung/fundamentals/blob/main/install_anaconda_and_jupyter/image/fig12.png?raw=true\" width='500' height='500'>"
   ]
  },
  {
   "cell_type": "markdown",
   "metadata": {},
   "source": [
    "`환경 변수` -> 시스템 변수의 `Path` 클릭 후 `편집`  \n",
    "<image src=\"https://github.com/pseokyoung/fundamentals/blob/main/install_anaconda_and_jupyter/image/fig13.png?raw=true\" width='1000' height='500'>"
   ]
  },
  {
   "cell_type": "markdown",
   "metadata": {},
   "source": [
    "`새로 만들기` -> `환경변수 경로` 입력  \n",
    "<image src=\"https://github.com/pseokyoung/fundamentals/blob/main/install_anaconda_and_jupyter/image/fig14.png?raw=true\" width='1000' height='500'>\n",
    "\n",
    "> 다음 환경변수 경로 3개 추가 (아나콘다가 설치된 경로)   \n",
    "> `1) C:\\Users\\*pselab*\\anaconda3`  \n",
    "> `2) C:\\Users\\*pselab*\\anaconda3\\Library`  \n",
    "> `3) C:\\Users\\*pselab*\\anaconda3\\Scripts`  \n",
    ">> * `*pselab*`을 본인 계정 이름으로 변경  "
   ]
  },
  {
   "cell_type": "markdown",
   "metadata": {},
   "source": [
    "# 2. 주피터 노트북 및 가상환경"
   ]
  },
  {
   "cell_type": "markdown",
   "metadata": {},
   "source": [
    "`window + s` 입력 -> `anaconda` 입력 후 클릭  \n",
    "<image src=\"https://github.com/pseokyoung/fundamentals/blob/main/install_anaconda_and_jupyter/image/fig15.png?raw=true\" width='500' height='500'>"
   ]
  },
  {
   "cell_type": "markdown",
   "metadata": {},
   "source": []
  },
  {
   "cell_type": "markdown",
   "metadata": {},
   "source": []
  },
  {
   "cell_type": "markdown",
   "metadata": {},
   "source": []
  },
  {
   "cell_type": "markdown",
   "metadata": {},
   "source": []
  }
 ],
 "metadata": {
  "language_info": {
   "name": "python"
  },
  "orig_nbformat": 4
 },
 "nbformat": 4,
 "nbformat_minor": 2
}
