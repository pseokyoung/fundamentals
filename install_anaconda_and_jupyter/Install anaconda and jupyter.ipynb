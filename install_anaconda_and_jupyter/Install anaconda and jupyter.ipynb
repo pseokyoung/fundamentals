{
 "cells": [
  {
   "cell_type": "markdown",
   "metadata": {},
   "source": [
    "아나콘다 설치 프로그램 다운로드\n",
    "\n",
    "[링크] https://www.anaconda.com/products/individual\n",
    "\n",
    "<image src=\"https://github.com/pseokyoung/fundamentals/blob/main/install_anaconda_and_jupyter/image/fig01.png?raw=true\" width='500' height='210'>"
   ]
  },
  {
   "cell_type": "markdown",
   "metadata": {},
   "source": [
    "`Next` and `I Agree` <br>\n",
    "<image src=\"https://github.com/pseokyoung/fundamentals/blob/main/install_anaconda_and_jupyter/image/fig02.png?raw=true\" width='500' height='400'>\n",
    "<image src=\"https://github.com/pseokyoung/fundamentals/blob/main/install_anaconda_and_jupyter/image/fig03.png?raw=true\" width='500' height='400'>"
   ]
  },
  {
   "cell_type": "markdown",
   "metadata": {},
   "source": [
    "`Just Me` and `Next`<br>\n",
    "<image src=\"https://github.com/pseokyoung/fundamentals/blob/main/install_anaconda_and_jupyter/image/fig04.png?raw=true\" width='500' height='400'>\n",
    "<image src=\"https://github.com/pseokyoung/fundamentals/blob/main/install_anaconda_and_jupyter/image/fig05.png?raw=true\" width='500' height='400'>"
   ]
  },
  {
   "cell_type": "markdown",
   "metadata": {},
   "source": [
    "`check or uncheck` and `Install`<br>\n",
    "<image src=\"https://github.com/pseokyoung/fundamentals/blob/main/install_anaconda_and_jupyter/image/fig06.png?raw=true\" width='500' height='400'>\n",
    "\n",
    "> \"check\": If you have not installed python  \n",
    "> \"uncheck\": If you have already installed python  \n"
   ]
  },
  {
   "cell_type": "markdown",
   "metadata": {},
   "source": [
    "wait for 5-10 mins <br>\n",
    "<image src=\"https://github.com/pseokyoung/fundamentals/blob/main/install_anaconda_and_jupyter/image/fig07.png?raw=true\" width='500' height='400'>"
   ]
  },
  {
   "cell_type": "markdown",
   "metadata": {},
   "source": [
    "`next` and `finish` <br>\n",
    "\n",
    "<image src=\"https://github.com/pseokyoung/fundamentals/blob/main/install_anaconda_and_jupyter/image/fig08.png?raw=true\" width='500' height='400'>\n",
    "<image src=\"https://github.com/pseokyoung/fundamentals/blob/main/install_anaconda_and_jupyter/image/fig09.png?raw=true\" width='500' height='400'>\n",
    "<image src=\"https://github.com/pseokyoung/fundamentals/blob/main/install_anaconda_and_jupyter/image/fig10.png?raw=true\" width='500' height='400'>\n"
   ]
  },
  {
   "cell_type": "markdown",
   "metadata": {},
   "source": [
    "## 환경변수 설정 (environment variable setting)"
   ]
  },
  {
   "cell_type": "markdown",
   "metadata": {},
   "source": [
    "아나콘다 설치 시, 기존 `파이썬이 없는 상황에서 환경변수 체크를 안 한 경우`에는 다음과 같이 환경변수를 설정해줍니다.\n",
    "<image src=\"https://github.com/pseokyoung/fundamentals/blob/main/install_anaconda_and_jupyter/image/fig11.png?raw=true\" width='500' height='400'>\n"
   ]
  },
  {
   "cell_type": "markdown",
   "metadata": {},
   "source": []
  },
  {
   "cell_type": "markdown",
   "metadata": {},
   "source": []
  },
  {
   "cell_type": "markdown",
   "metadata": {},
   "source": []
  },
  {
   "cell_type": "markdown",
   "metadata": {},
   "source": []
  },
  {
   "cell_type": "markdown",
   "metadata": {},
   "source": []
  },
  {
   "cell_type": "markdown",
   "metadata": {},
   "source": []
  },
  {
   "cell_type": "markdown",
   "metadata": {},
   "source": []
  }
 ],
 "metadata": {
  "language_info": {
   "name": "python"
  },
  "orig_nbformat": 4
 },
 "nbformat": 4,
 "nbformat_minor": 2
}
