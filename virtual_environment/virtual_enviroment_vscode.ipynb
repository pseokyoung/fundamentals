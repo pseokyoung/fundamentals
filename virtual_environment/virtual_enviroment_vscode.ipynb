{
 "cells": [
  {
   "cell_type": "markdown",
   "metadata": {},
   "source": [
    "# 1. 가상환경 생성하기"
   ]
  },
  {
   "cell_type": "markdown",
   "metadata": {},
   "source": [
    "## 1.1. 작업 폴더 vscode로 열기"
   ]
  },
  {
   "cell_type": "markdown",
   "metadata": {},
   "source": [
    "<image src=\"https://github.com/pseokyoung/fundamentals/blob/main/virtual_environment/image/fig1.png?raw=true\" width='750' height='600'>"
   ]
  },
  {
   "cell_type": "markdown",
   "metadata": {},
   "source": [
    "## 1.2. 콘솔창 열기\n",
    "\n",
    "> __ctrl + `__ 키를 눌러 콘솔창(터미널) 열기"
   ]
  },
  {
   "cell_type": "markdown",
   "metadata": {},
   "source": [
    "## 1.3. 가상환경 구성"
   ]
  },
  {
   "cell_type": "markdown",
   "metadata": {},
   "source": [
    "* cmd 창 확인\n",
    "* 작업경로 위치 확인  \n",
    "\n",
    "<image src=\"https://github.com/pseokyoung/fundamentals/blob/main/virtual_environment/image/fig2.png?raw=true\" width='750' height='600'>\n",
    "\n",
    "* python -m venv 명령어 실행\n",
    "\n",
    "> ```> python -m venv venv```  \n",
    "\n",
    "* 생성된 가상환경 확인\n",
    "\n",
    "<image src=\"https://github.com/pseokyoung/fundamentals/blob/main/virtual_environment/image/fig3.png?raw=true\" width='750' height='600'>"
   ]
  },
  {
   "cell_type": "markdown",
   "metadata": {},
   "source": [
    "# 2. 가상환경 진입하기"
   ]
  },
  {
   "cell_type": "markdown",
   "metadata": {},
   "source": [
    "* vscode 검색창 열기\n",
    "> `ctrl + shift + p`\n",
    "\n",
    "* python:select interpreter 검색 후 선택\n",
    "\n",
    "<image src=\"https://github.com/pseokyoung/fundamentals/blob/main/virtual_environment/image/fig4.png?raw=true\" width='750' height='600'>\n",
    "\n",
    "* 생성된 가상환경 선택\n",
    "\n",
    "<image src=\"https://github.com/pseokyoung/fundamentals/blob/main/virtual_environment/image/fig5.png?raw=true\" width='750' height='600'>\n",
    "\n",
    "* 가상환경에서 터미널 열기\n",
    "\n",
    "<image src=\"https://github.com/pseokyoung/fundamentals/blob/main/virtual_environment/image/fig6.png?raw=true\" width='750' height='600'>\n",
    "<image src=\"https://github.com/pseokyoung/fundamentals/blob/main/virtual_environment/image/fig7.png?raw=true\" width='750' height='600'>"
   ]
  },
  {
   "cell_type": "markdown",
   "metadata": {},
   "source": [
    "# 3. 라이브러리 설치"
   ]
  },
  {
   "cell_type": "markdown",
   "metadata": {},
   "source": [
    "* 작업폴더 진입\n",
    "\n",
    "<image src=\"https://github.com/pseokyoung/fundamentals/blob/main/virtual_environment/image/fig8.png?raw=true\" width='750' height='600'>\n",
    "\n",
    "* 라이브러리 설치 파일(requirements.txt) 붙여넣기\n",
    "\n",
    "<image src=\"https://github.com/pseokyoung/fundamentals/blob/main/virtual_environment/image/fig9.png?raw=true\" width='750' height='600'>\n",
    "\n",
    "* 터미널에서 라이브러리 설치\n",
    "> `pip install -r requirements.txt`\n",
    "\n",
    "<image src=\"https://github.com/pseokyoung/fundamentals/blob/main/virtual_environment/image/fig10.png?raw=true\" width='750' height='600'>"
   ]
  },
  {
   "cell_type": "markdown",
   "metadata": {},
   "source": [
    "# (optional) git 사용 시 가상환경 기록 제외하기"
   ]
  },
  {
   "cell_type": "markdown",
   "metadata": {},
   "source": [
    "가상환경은 컴퓨터에 설치되는 것이므로 컴퓨터 별로 가상환경을 관리해주어야 한다. 따라서 git 사용시 log 파일에 저장되지 않도록 .gitignore 목록에 추가해주어야 함."
   ]
  },
  {
   "cell_type": "markdown",
   "metadata": {},
   "source": [
    "* 작업폴더에 `.gitignore` 파일 생성\n",
    "\n",
    "<image src=\"https://github.com/pseokyoung/fundamentals/blob/main/virtual_environment/image/fig11.png?raw=true\" width='750' height='600'>\n",
    "<image src=\"https://github.com/pseokyoung/fundamentals/blob/main/virtual_environment/image/fig12.png?raw=true\" width='750' height='600'>\n",
    "\n",
    "* .gitignore 파일에 `venv/` 목록 추가\n",
    "\n",
    "<image src=\"https://github.com/pseokyoung/fundamentals/blob/main/virtual_environment/image/fig13.png?raw=true\" width='750' height='600'>"
   ]
  }
 ],
 "metadata": {
  "language_info": {
   "name": "python"
  },
  "orig_nbformat": 4
 },
 "nbformat": 4,
 "nbformat_minor": 2
}
